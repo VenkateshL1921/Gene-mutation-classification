{
 "cells": [
  {
   "cell_type": "code",
   "execution_count": 1,
   "metadata": {},
   "outputs": [],
   "source": [
    "import numpy as np\n",
    "import pandas as pd\n",
    "import matplotlib.pyplot as plt\n",
    "import seaborn as sns"
   ]
  },
  {
   "cell_type": "markdown",
   "metadata": {},
   "source": [
    "# Read the data"
   ]
  },
  {
   "cell_type": "code",
   "execution_count": 2,
   "metadata": {},
   "outputs": [
    {
     "data": {
      "text/html": [
       "<div>\n",
       "<style scoped>\n",
       "    .dataframe tbody tr th:only-of-type {\n",
       "        vertical-align: middle;\n",
       "    }\n",
       "\n",
       "    .dataframe tbody tr th {\n",
       "        vertical-align: top;\n",
       "    }\n",
       "\n",
       "    .dataframe thead th {\n",
       "        text-align: right;\n",
       "    }\n",
       "</style>\n",
       "<table border=\"1\" class=\"dataframe\">\n",
       "  <thead>\n",
       "    <tr style=\"text-align: right;\">\n",
       "      <th></th>\n",
       "      <th>ID</th>\n",
       "      <th>Gene</th>\n",
       "      <th>Variation</th>\n",
       "      <th>Class</th>\n",
       "    </tr>\n",
       "  </thead>\n",
       "  <tbody>\n",
       "    <tr>\n",
       "      <th>0</th>\n",
       "      <td>0</td>\n",
       "      <td>FAM58A</td>\n",
       "      <td>Truncating Mutations</td>\n",
       "      <td>1</td>\n",
       "    </tr>\n",
       "    <tr>\n",
       "      <th>1</th>\n",
       "      <td>1</td>\n",
       "      <td>CBL</td>\n",
       "      <td>W802*</td>\n",
       "      <td>2</td>\n",
       "    </tr>\n",
       "    <tr>\n",
       "      <th>2</th>\n",
       "      <td>2</td>\n",
       "      <td>CBL</td>\n",
       "      <td>Q249E</td>\n",
       "      <td>2</td>\n",
       "    </tr>\n",
       "    <tr>\n",
       "      <th>3</th>\n",
       "      <td>3</td>\n",
       "      <td>CBL</td>\n",
       "      <td>N454D</td>\n",
       "      <td>3</td>\n",
       "    </tr>\n",
       "    <tr>\n",
       "      <th>4</th>\n",
       "      <td>4</td>\n",
       "      <td>CBL</td>\n",
       "      <td>L399V</td>\n",
       "      <td>4</td>\n",
       "    </tr>\n",
       "  </tbody>\n",
       "</table>\n",
       "</div>"
      ],
      "text/plain": [
       "   ID    Gene             Variation  Class\n",
       "0   0  FAM58A  Truncating Mutations      1\n",
       "1   1     CBL                 W802*      2\n",
       "2   2     CBL                 Q249E      2\n",
       "3   3     CBL                 N454D      3\n",
       "4   4     CBL                 L399V      4"
      ]
     },
     "execution_count": 2,
     "metadata": {},
     "output_type": "execute_result"
    }
   ],
   "source": [
    "# Reading gene and variation data\n",
    "gv_data = pd.read_csv(\"training_variants\")\n",
    "gv_data.head()"
   ]
  },
  {
   "cell_type": "code",
   "execution_count": 3,
   "metadata": {},
   "outputs": [
    {
     "name": "stdout",
     "output_type": "stream",
     "text": [
      "Shape of gene variant data: (3321, 4)\n",
      "Number of features in gene variant data: 4\n"
     ]
    }
   ],
   "source": [
    "print(\"Shape of gene variant data:\", gv_data.shape)\n",
    "print(\"Number of features in gene variant data:\", gv_data.shape[1])"
   ]
  },
  {
   "cell_type": "code",
   "execution_count": 4,
   "metadata": {},
   "outputs": [
    {
     "name": "stderr",
     "output_type": "stream",
     "text": [
      "C:\\Users\\venkatesh lotlikar\\Anaconda3\\lib\\site-packages\\ipykernel_launcher.py:2: ParserWarning: Falling back to the 'python' engine because the 'c' engine does not support regex separators (separators > 1 char and different from '\\s+' are interpreted as regex); you can avoid this warning by specifying engine='python'.\n",
      "  \n"
     ]
    },
    {
     "data": {
      "text/html": [
       "<div>\n",
       "<style scoped>\n",
       "    .dataframe tbody tr th:only-of-type {\n",
       "        vertical-align: middle;\n",
       "    }\n",
       "\n",
       "    .dataframe tbody tr th {\n",
       "        vertical-align: top;\n",
       "    }\n",
       "\n",
       "    .dataframe thead th {\n",
       "        text-align: right;\n",
       "    }\n",
       "</style>\n",
       "<table border=\"1\" class=\"dataframe\">\n",
       "  <thead>\n",
       "    <tr style=\"text-align: right;\">\n",
       "      <th></th>\n",
       "      <th>ID</th>\n",
       "      <th>Text</th>\n",
       "    </tr>\n",
       "  </thead>\n",
       "  <tbody>\n",
       "    <tr>\n",
       "      <th>0</th>\n",
       "      <td>0</td>\n",
       "      <td>Cyclin-dependent kinases (CDKs) regulate a var...</td>\n",
       "    </tr>\n",
       "    <tr>\n",
       "      <th>1</th>\n",
       "      <td>1</td>\n",
       "      <td>Abstract Background  Non-small cell lung canc...</td>\n",
       "    </tr>\n",
       "    <tr>\n",
       "      <th>2</th>\n",
       "      <td>2</td>\n",
       "      <td>Abstract Background  Non-small cell lung canc...</td>\n",
       "    </tr>\n",
       "    <tr>\n",
       "      <th>3</th>\n",
       "      <td>3</td>\n",
       "      <td>Recent evidence has demonstrated that acquired...</td>\n",
       "    </tr>\n",
       "    <tr>\n",
       "      <th>4</th>\n",
       "      <td>4</td>\n",
       "      <td>Oncogenic mutations in the monomeric Casitas B...</td>\n",
       "    </tr>\n",
       "  </tbody>\n",
       "</table>\n",
       "</div>"
      ],
      "text/plain": [
       "   ID                                               Text\n",
       "0   0  Cyclin-dependent kinases (CDKs) regulate a var...\n",
       "1   1   Abstract Background  Non-small cell lung canc...\n",
       "2   2   Abstract Background  Non-small cell lung canc...\n",
       "3   3  Recent evidence has demonstrated that acquired...\n",
       "4   4  Oncogenic mutations in the monomeric Casitas B..."
      ]
     },
     "execution_count": 4,
     "metadata": {},
     "output_type": "execute_result"
    }
   ],
   "source": [
    "# Reading Text data\n",
    "txt_data = pd.read_csv(\"training_text\", sep=\"\\|\\|\", names=[\"ID\",\"Text\"], skiprows=1)\n",
    "txt_data.head()"
   ]
  },
  {
   "cell_type": "code",
   "execution_count": 5,
   "metadata": {},
   "outputs": [
    {
     "name": "stdout",
     "output_type": "stream",
     "text": [
      "Shape of text data: (3321, 2)\n",
      "Number of features in text data: 2\n"
     ]
    }
   ],
   "source": [
    "print(\"Shape of text data:\", txt_data.shape)\n",
    "print(\"Number of features in text data:\", txt_data.shape[1])"
   ]
  },
  {
   "cell_type": "markdown",
   "metadata": {},
   "source": [
    "# Merge data"
   ]
  },
  {
   "cell_type": "code",
   "execution_count": 6,
   "metadata": {},
   "outputs": [
    {
     "data": {
      "text/html": [
       "<div>\n",
       "<style scoped>\n",
       "    .dataframe tbody tr th:only-of-type {\n",
       "        vertical-align: middle;\n",
       "    }\n",
       "\n",
       "    .dataframe tbody tr th {\n",
       "        vertical-align: top;\n",
       "    }\n",
       "\n",
       "    .dataframe thead th {\n",
       "        text-align: right;\n",
       "    }\n",
       "</style>\n",
       "<table border=\"1\" class=\"dataframe\">\n",
       "  <thead>\n",
       "    <tr style=\"text-align: right;\">\n",
       "      <th></th>\n",
       "      <th>ID</th>\n",
       "      <th>Gene</th>\n",
       "      <th>Variation</th>\n",
       "      <th>Class</th>\n",
       "      <th>Text</th>\n",
       "    </tr>\n",
       "  </thead>\n",
       "  <tbody>\n",
       "    <tr>\n",
       "      <th>0</th>\n",
       "      <td>0</td>\n",
       "      <td>FAM58A</td>\n",
       "      <td>Truncating Mutations</td>\n",
       "      <td>1</td>\n",
       "      <td>Cyclin-dependent kinases (CDKs) regulate a var...</td>\n",
       "    </tr>\n",
       "    <tr>\n",
       "      <th>1</th>\n",
       "      <td>1</td>\n",
       "      <td>CBL</td>\n",
       "      <td>W802*</td>\n",
       "      <td>2</td>\n",
       "      <td>Abstract Background  Non-small cell lung canc...</td>\n",
       "    </tr>\n",
       "    <tr>\n",
       "      <th>2</th>\n",
       "      <td>2</td>\n",
       "      <td>CBL</td>\n",
       "      <td>Q249E</td>\n",
       "      <td>2</td>\n",
       "      <td>Abstract Background  Non-small cell lung canc...</td>\n",
       "    </tr>\n",
       "    <tr>\n",
       "      <th>3</th>\n",
       "      <td>3</td>\n",
       "      <td>CBL</td>\n",
       "      <td>N454D</td>\n",
       "      <td>3</td>\n",
       "      <td>Recent evidence has demonstrated that acquired...</td>\n",
       "    </tr>\n",
       "    <tr>\n",
       "      <th>4</th>\n",
       "      <td>4</td>\n",
       "      <td>CBL</td>\n",
       "      <td>L399V</td>\n",
       "      <td>4</td>\n",
       "      <td>Oncogenic mutations in the monomeric Casitas B...</td>\n",
       "    </tr>\n",
       "  </tbody>\n",
       "</table>\n",
       "</div>"
      ],
      "text/plain": [
       "   ID    Gene             Variation  Class  \\\n",
       "0   0  FAM58A  Truncating Mutations      1   \n",
       "1   1     CBL                 W802*      2   \n",
       "2   2     CBL                 Q249E      2   \n",
       "3   3     CBL                 N454D      3   \n",
       "4   4     CBL                 L399V      4   \n",
       "\n",
       "                                                Text  \n",
       "0  Cyclin-dependent kinases (CDKs) regulate a var...  \n",
       "1   Abstract Background  Non-small cell lung canc...  \n",
       "2   Abstract Background  Non-small cell lung canc...  \n",
       "3  Recent evidence has demonstrated that acquired...  \n",
       "4  Oncogenic mutations in the monomeric Casitas B...  "
      ]
     },
     "execution_count": 6,
     "metadata": {},
     "output_type": "execute_result"
    }
   ],
   "source": [
    "df = pd.merge(gv_data, txt_data, on =\"ID\", how = \"left\")\n",
    "df.head()"
   ]
  },
  {
   "cell_type": "code",
   "execution_count": 7,
   "metadata": {},
   "outputs": [
    {
     "name": "stdout",
     "output_type": "stream",
     "text": [
      "Shape of dataset: (3321, 5)\n"
     ]
    }
   ],
   "source": [
    "print(\"Shape of dataset:\", df.shape)"
   ]
  },
  {
   "cell_type": "markdown",
   "metadata": {},
   "source": [
    "# Data distribution"
   ]
  },
  {
   "cell_type": "code",
   "execution_count": 8,
   "metadata": {},
   "outputs": [
    {
     "name": "stdout",
     "output_type": "stream",
     "text": [
      "1    568\n",
      "2    452\n",
      "3     89\n",
      "4    686\n",
      "5    242\n",
      "6    275\n",
      "7    953\n",
      "8     19\n",
      "9     37\n",
      "Name: Class, dtype: int64\n",
      "************************Histogram of Class*******************************\n"
     ]
    },
    {
     "data": {
      "image/png": "[encoded data removed]",
      "text/plain": [
       "<Figure size 432x288 with 1 Axes>"
      ]
     },
     "metadata": {},
     "output_type": "display_data"
    }
   ],
   "source": [
    "print(df[\"Class\"].value_counts().sort_index())\n",
    "print(\"************************Histogram of Class*******************************\")\n",
    "cls = df[\"Class\"].value_counts().sort_index()\n",
    "cls.plot(kind=\"bar\", title=\"class\")\n",
    "plt.show()"
   ]
  },
  {
   "cell_type": "code",
   "execution_count": 9,
   "metadata": {},
   "outputs": [
    {
     "name": "stdout",
     "output_type": "stream",
     "text": [
      "************************Gene*******************************\n",
      "BRCA1    264\n",
      "TP53     163\n",
      "EGFR     141\n",
      "PTEN     126\n",
      "BRCA2    125\n",
      "        ... \n",
      "KLF4       1\n",
      "WHSC1      1\n",
      "RRAS2      1\n",
      "HLA-B      1\n",
      "JUN        1\n",
      "Name: Gene, Length: 264, dtype: int64\n"
     ]
    }
   ],
   "source": [
    "print(\"************************Gene*******************************\")\n",
    "print(df[\"Gene\"].value_counts())"
   ]
  },
  {
   "cell_type": "code",
   "execution_count": 10,
   "metadata": {},
   "outputs": [
    {
     "name": "stdout",
     "output_type": "stream",
     "text": [
      "************************Variation*******************************\n",
      "Truncating Mutations    93\n",
      "Deletion                74\n",
      "Amplification           71\n",
      "Fusions                 34\n",
      "Overexpression           6\n",
      "                        ..\n",
      "T1203K                   1\n",
      "R283Q                    1\n",
      "A677G                    1\n",
      "S34F                     1\n",
      "R2505Q                   1\n",
      "Name: Variation, Length: 2996, dtype: int64\n"
     ]
    }
   ],
   "source": [
    "print(\"************************Variation*******************************\")\n",
    "print(df[\"Variation\"].value_counts())"
   ]
  },
  {
   "cell_type": "markdown",
   "metadata": {},
   "source": [
    "# Preprocess text data"
   ]
  },
  {
   "cell_type": "code",
   "execution_count": 11,
   "metadata": {},
   "outputs": [
    {
     "name": "stdout",
     "output_type": "stream",
     "text": [
      "[nltk_data] Downloading package stopwords to C:\\Users\\venkatesh\n",
      "[nltk_data]     lotlikar\\AppData\\Roaming\\nltk_data...\n",
      "[nltk_data]   Package stopwords is already up-to-date!\n"
     ]
    },
    {
     "data": {
      "text/plain": [
       "True"
      ]
     },
     "execution_count": 11,
     "metadata": {},
     "output_type": "execute_result"
    }
   ],
   "source": [
    "# Preprocesing of text data from df\n",
    "import nltk\n",
    "nltk.download('stopwords')"
   ]
  },
  {
   "cell_type": "code",
   "execution_count": 12,
   "metadata": {},
   "outputs": [
    {
     "name": "stdout",
     "output_type": "stream",
     "text": [
      "True\n"
     ]
    }
   ],
   "source": [
    "from nltk.corpus import stopwords\n",
    "stop_words = set(stopwords.words('english'))\n",
    "print(\"not\" in stop_words)"
   ]
  },
  {
   "cell_type": "code",
   "execution_count": 13,
   "metadata": {},
   "outputs": [
    {
     "name": "stderr",
     "output_type": "stream",
     "text": [
      "C:\\Users\\venkatesh lotlikar\\Anaconda3\\lib\\site-packages\\ipykernel_launcher.py:17: SettingWithCopyWarning: \n",
      "A value is trying to be set on a copy of a slice from a DataFrame\n",
      "\n",
      "See the caveats in the documentation: https://pandas.pydata.org/pandas-docs/stable/user_guide/indexing.html#returning-a-view-versus-a-copy\n"
     ]
    },
    {
     "name": "stdout",
     "output_type": "stream",
     "text": [
      "No text present in row 1109\n",
      "No text present in row 1277\n",
      "No text present in row 1407\n",
      "No text present in row 1639\n",
      "No text present in row 2755\n"
     ]
    }
   ],
   "source": [
    "import re\n",
    "def preprocess(text,row,col):\n",
    "    if type(text) is not int:\n",
    "        text_p = \"\"\n",
    "        # eliminate special characters\n",
    "        text = re.sub(\"[^A-Za-z0-9\\n]\",\" \", text)\n",
    "        # replace multiple white spaces with single white space\n",
    "        text = re.sub(\"\\s+\", \" \", text)\n",
    "        # upper to lower\n",
    "        text = text.lower()\n",
    "\n",
    "        for word in text.split():\n",
    "            # if the word is a not a stop word then retain that word from the data\n",
    "                if not word in stop_words: #and word == \"not\":\n",
    "                    text_p += word + \" \"\n",
    "\n",
    "        df[col][row] = text_p  \n",
    "    \n",
    "for row, columns in df.iterrows():\n",
    "    if type(columns[\"Text\"]) == str:\n",
    "        preprocess(columns[\"Text\"], row, \"Text\")\n",
    "    else:\n",
    "        print(\"No text present in row {}\".format(row))"
   ]
  },
  {
   "cell_type": "code",
   "execution_count": 14,
   "metadata": {},
   "outputs": [
    {
     "data": {
      "text/html": [
       "<div>\n",
       "<style scoped>\n",
       "    .dataframe tbody tr th:only-of-type {\n",
       "        vertical-align: middle;\n",
       "    }\n",
       "\n",
       "    .dataframe tbody tr th {\n",
       "        vertical-align: top;\n",
       "    }\n",
       "\n",
       "    .dataframe thead th {\n",
       "        text-align: right;\n",
       "    }\n",
       "</style>\n",
       "<table border=\"1\" class=\"dataframe\">\n",
       "  <thead>\n",
       "    <tr style=\"text-align: right;\">\n",
       "      <th></th>\n",
       "      <th>ID</th>\n",
       "      <th>Gene</th>\n",
       "      <th>Variation</th>\n",
       "      <th>Class</th>\n",
       "      <th>Text</th>\n",
       "    </tr>\n",
       "  </thead>\n",
       "  <tbody>\n",
       "    <tr>\n",
       "      <th>0</th>\n",
       "      <td>0</td>\n",
       "      <td>FAM58A</td>\n",
       "      <td>Truncating Mutations</td>\n",
       "      <td>1</td>\n",
       "      <td>cyclin dependent kinases cdks regulate variety...</td>\n",
       "    </tr>\n",
       "    <tr>\n",
       "      <th>1</th>\n",
       "      <td>1</td>\n",
       "      <td>CBL</td>\n",
       "      <td>W802*</td>\n",
       "      <td>2</td>\n",
       "      <td>abstract background non small cell lung cancer...</td>\n",
       "    </tr>\n",
       "    <tr>\n",
       "      <th>2</th>\n",
       "      <td>2</td>\n",
       "      <td>CBL</td>\n",
       "      <td>Q249E</td>\n",
       "      <td>2</td>\n",
       "      <td>abstract background non small cell lung cancer...</td>\n",
       "    </tr>\n",
       "    <tr>\n",
       "      <th>3</th>\n",
       "      <td>3</td>\n",
       "      <td>CBL</td>\n",
       "      <td>N454D</td>\n",
       "      <td>3</td>\n",
       "      <td>recent evidence demonstrated acquired uniparen...</td>\n",
       "    </tr>\n",
       "    <tr>\n",
       "      <th>4</th>\n",
       "      <td>4</td>\n",
       "      <td>CBL</td>\n",
       "      <td>L399V</td>\n",
       "      <td>4</td>\n",
       "      <td>oncogenic mutations monomeric casitas b lineag...</td>\n",
       "    </tr>\n",
       "  </tbody>\n",
       "</table>\n",
       "</div>"
      ],
      "text/plain": [
       "   ID    Gene             Variation  Class  \\\n",
       "0   0  FAM58A  Truncating Mutations      1   \n",
       "1   1     CBL                 W802*      2   \n",
       "2   2     CBL                 Q249E      2   \n",
       "3   3     CBL                 N454D      3   \n",
       "4   4     CBL                 L399V      4   \n",
       "\n",
       "                                                Text  \n",
       "0  cyclin dependent kinases cdks regulate variety...  \n",
       "1  abstract background non small cell lung cancer...  \n",
       "2  abstract background non small cell lung cancer...  \n",
       "3  recent evidence demonstrated acquired uniparen...  \n",
       "4  oncogenic mutations monomeric casitas b lineag...  "
      ]
     },
     "execution_count": 14,
     "metadata": {},
     "output_type": "execute_result"
    }
   ],
   "source": [
    "df.head()"
   ]
  },
  {
   "cell_type": "markdown",
   "metadata": {},
   "source": [
    "# Finding and handling null values"
   ]
  },
  {
   "cell_type": "code",
   "execution_count": 15,
   "metadata": {},
   "outputs": [
    {
     "data": {
      "text/html": [
       "<div>\n",
       "<style scoped>\n",
       "    .dataframe tbody tr th:only-of-type {\n",
       "        vertical-align: middle;\n",
       "    }\n",
       "\n",
       "    .dataframe tbody tr th {\n",
       "        vertical-align: top;\n",
       "    }\n",
       "\n",
       "    .dataframe thead th {\n",
       "        text-align: right;\n",
       "    }\n",
       "</style>\n",
       "<table border=\"1\" class=\"dataframe\">\n",
       "  <thead>\n",
       "    <tr style=\"text-align: right;\">\n",
       "      <th></th>\n",
       "      <th>ID</th>\n",
       "      <th>Gene</th>\n",
       "      <th>Variation</th>\n",
       "      <th>Class</th>\n",
       "      <th>Text</th>\n",
       "    </tr>\n",
       "  </thead>\n",
       "  <tbody>\n",
       "    <tr>\n",
       "      <th>1109</th>\n",
       "      <td>1109</td>\n",
       "      <td>FANCA</td>\n",
       "      <td>S1088F</td>\n",
       "      <td>1</td>\n",
       "      <td>NaN</td>\n",
       "    </tr>\n",
       "    <tr>\n",
       "      <th>1277</th>\n",
       "      <td>1277</td>\n",
       "      <td>ARID5B</td>\n",
       "      <td>Truncating Mutations</td>\n",
       "      <td>1</td>\n",
       "      <td>NaN</td>\n",
       "    </tr>\n",
       "    <tr>\n",
       "      <th>1407</th>\n",
       "      <td>1407</td>\n",
       "      <td>FGFR3</td>\n",
       "      <td>K508M</td>\n",
       "      <td>6</td>\n",
       "      <td>NaN</td>\n",
       "    </tr>\n",
       "    <tr>\n",
       "      <th>1639</th>\n",
       "      <td>1639</td>\n",
       "      <td>FLT1</td>\n",
       "      <td>Amplification</td>\n",
       "      <td>6</td>\n",
       "      <td>NaN</td>\n",
       "    </tr>\n",
       "    <tr>\n",
       "      <th>2755</th>\n",
       "      <td>2755</td>\n",
       "      <td>BRAF</td>\n",
       "      <td>G596C</td>\n",
       "      <td>7</td>\n",
       "      <td>NaN</td>\n",
       "    </tr>\n",
       "  </tbody>\n",
       "</table>\n",
       "</div>"
      ],
      "text/plain": [
       "        ID    Gene             Variation  Class Text\n",
       "1109  1109   FANCA                S1088F      1  NaN\n",
       "1277  1277  ARID5B  Truncating Mutations      1  NaN\n",
       "1407  1407   FGFR3                 K508M      6  NaN\n",
       "1639  1639    FLT1         Amplification      6  NaN\n",
       "2755  2755    BRAF                 G596C      7  NaN"
      ]
     },
     "execution_count": 15,
     "metadata": {},
     "output_type": "execute_result"
    }
   ],
   "source": [
    "df[df.isnull().any(axis=1)]  # missing data"
   ]
  },
  {
   "cell_type": "code",
   "execution_count": 16,
   "metadata": {},
   "outputs": [
    {
     "name": "stderr",
     "output_type": "stream",
     "text": [
      "C:\\Users\\venkatesh lotlikar\\Anaconda3\\lib\\site-packages\\ipykernel_launcher.py:2: SettingWithCopyWarning: \n",
      "A value is trying to be set on a copy of a slice from a DataFrame\n",
      "\n",
      "See the caveats in the documentation: https://pandas.pydata.org/pandas-docs/stable/user_guide/indexing.html#returning-a-view-versus-a-copy\n",
      "  \n"
     ]
    }
   ],
   "source": [
    "for row, column in df[df.isnull().any(axis=1)].iterrows():         # fill the missing data\n",
    "    df[\"Text\"][row] = df[\"Gene\"][row] + \" \" + df[\"Variation\"][row]"
   ]
  },
  {
   "cell_type": "code",
   "execution_count": 17,
   "metadata": {},
   "outputs": [
    {
     "data": {
      "text/html": [
       "<div>\n",
       "<style scoped>\n",
       "    .dataframe tbody tr th:only-of-type {\n",
       "        vertical-align: middle;\n",
       "    }\n",
       "\n",
       "    .dataframe tbody tr th {\n",
       "        vertical-align: top;\n",
       "    }\n",
       "\n",
       "    .dataframe thead th {\n",
       "        text-align: right;\n",
       "    }\n",
       "</style>\n",
       "<table border=\"1\" class=\"dataframe\">\n",
       "  <thead>\n",
       "    <tr style=\"text-align: right;\">\n",
       "      <th></th>\n",
       "      <th>ID</th>\n",
       "      <th>Gene</th>\n",
       "      <th>Variation</th>\n",
       "      <th>Class</th>\n",
       "      <th>Text</th>\n",
       "    </tr>\n",
       "  </thead>\n",
       "  <tbody>\n",
       "    <tr>\n",
       "      <th>1277</th>\n",
       "      <td>1277</td>\n",
       "      <td>ARID5B</td>\n",
       "      <td>Truncating Mutations</td>\n",
       "      <td>1</td>\n",
       "      <td>ARID5B Truncating Mutations</td>\n",
       "    </tr>\n",
       "  </tbody>\n",
       "</table>\n",
       "</div>"
      ],
      "text/plain": [
       "        ID    Gene             Variation  Class                         Text\n",
       "1277  1277  ARID5B  Truncating Mutations      1  ARID5B Truncating Mutations"
      ]
     },
     "execution_count": 17,
     "metadata": {},
     "output_type": "execute_result"
    }
   ],
   "source": [
    "df[df[\"ID\"] == 1277]"
   ]
  },
  {
   "cell_type": "code",
   "execution_count": 18,
   "metadata": {},
   "outputs": [
    {
     "data": {
      "text/html": [
       "<div>\n",
       "<style scoped>\n",
       "    .dataframe tbody tr th:only-of-type {\n",
       "        vertical-align: middle;\n",
       "    }\n",
       "\n",
       "    .dataframe tbody tr th {\n",
       "        vertical-align: top;\n",
       "    }\n",
       "\n",
       "    .dataframe thead th {\n",
       "        text-align: right;\n",
       "    }\n",
       "</style>\n",
       "<table border=\"1\" class=\"dataframe\">\n",
       "  <thead>\n",
       "    <tr style=\"text-align: right;\">\n",
       "      <th></th>\n",
       "      <th>ID</th>\n",
       "      <th>Gene</th>\n",
       "      <th>Variation</th>\n",
       "      <th>Class</th>\n",
       "      <th>Text</th>\n",
       "    </tr>\n",
       "  </thead>\n",
       "  <tbody>\n",
       "  </tbody>\n",
       "</table>\n",
       "</div>"
      ],
      "text/plain": [
       "Empty DataFrame\n",
       "Columns: [ID, Gene, Variation, Class, Text]\n",
       "Index: []"
      ]
     },
     "execution_count": 18,
     "metadata": {},
     "output_type": "execute_result"
    }
   ],
   "source": [
    "df[df.isnull().any(axis=1)]"
   ]
  },
  {
   "cell_type": "markdown",
   "metadata": {},
   "source": [
    "# Splitting data into train , cross validation and test"
   ]
  },
  {
   "cell_type": "code",
   "execution_count": 19,
   "metadata": {},
   "outputs": [],
   "source": [
    "X = df\n",
    "y = df[\"Class\"]"
   ]
  },
  {
   "cell_type": "code",
   "execution_count": 20,
   "metadata": {},
   "outputs": [],
   "source": [
    "from sklearn.model_selection import train_test_split\n",
    "X_tr, X_test, y_tr, y_test = train_test_split(X, y, stratify=y, test_size=0.2)\n",
    "X_train, X_cv, y_train, y_cv = train_test_split(X_tr, y_tr, stratify=y_tr, test_size=0.2)"
   ]
  },
  {
   "cell_type": "code",
   "execution_count": 21,
   "metadata": {},
   "outputs": [
    {
     "name": "stdout",
     "output_type": "stream",
     "text": [
      "Shape of train data: (2124, 5)\n",
      "Shape of cross validation data: (532, 5)\n",
      "Shape of test data: (665, 5)\n"
     ]
    }
   ],
   "source": [
    "print(\"Shape of train data:\", X_train.shape)\n",
    "print(\"Shape of cross validation data:\", X_cv.shape)\n",
    "print(\"Shape of test data:\", X_test.shape)"
   ]
  },
  {
   "cell_type": "code",
   "execution_count": 22,
   "metadata": {},
   "outputs": [
    {
     "name": "stdout",
     "output_type": "stream",
     "text": [
      "1    363\n",
      "2    289\n",
      "3     57\n",
      "4    439\n",
      "5    155\n",
      "6    176\n",
      "7    609\n",
      "8     12\n",
      "9     24\n",
      "Name: Class, dtype: int64\n",
      "************************Histogram of X_train*******************************\n"
     ]
    },
    {
     "data": {
      "image/png": "[encoded data removed]",
      "text/plain": [
       "<Figure size 432x288 with 1 Axes>"
      ]
     },
     "metadata": {},
     "output_type": "display_data"
    }
   ],
   "source": [
    "print(X_train[\"Class\"].value_counts().sort_index())\n",
    "print(\"************************Histogram of X_train*******************************\")\n",
    "cls = X_train[\"Class\"].value_counts().sort_index()\n",
    "cls.plot(kind=\"bar\", title=\"X_train\")\n",
    "plt.show()"
   ]
  },
  {
   "cell_type": "code",
   "execution_count": 23,
   "metadata": {},
   "outputs": [
    {
     "name": "stdout",
     "output_type": "stream",
     "text": [
      "1     91\n",
      "2     72\n",
      "3     14\n",
      "4    110\n",
      "5     39\n",
      "6     44\n",
      "7    153\n",
      "8      3\n",
      "9      6\n",
      "Name: Class, dtype: int64\n",
      "************************Histogram of X_cv*******************************\n"
     ]
    },
    {
     "data": {
      "image/png": "[encoded data removed]",
      "text/plain": [
       "<Figure size 432x288 with 1 Axes>"
      ]
     },
     "metadata": {},
     "output_type": "display_data"
    }
   ],
   "source": [
    "print(X_cv[\"Class\"].value_counts().sort_index())\n",
    "print(\"************************Histogram of X_cv*******************************\")\n",
    "cls = X_cv[\"Class\"].value_counts().sort_index()\n",
    "cls.plot(kind=\"bar\", title=\"X_cv\")\n",
    "plt.show()"
   ]
  },
  {
   "cell_type": "code",
   "execution_count": 24,
   "metadata": {},
   "outputs": [
    {
     "name": "stdout",
     "output_type": "stream",
     "text": [
      "1    363\n",
      "2    289\n",
      "3     57\n",
      "4    439\n",
      "5    155\n",
      "6    176\n",
      "7    609\n",
      "8     12\n",
      "9     24\n",
      "Name: Class, dtype: int64\n",
      "************************Histogram of X_test*******************************\n"
     ]
    },
    {
     "data": {
      "image/png": "[encoded data removed]",
      "text/plain": [
       "<Figure size 432x288 with 1 Axes>"
      ]
     },
     "metadata": {},
     "output_type": "display_data"
    }
   ],
   "source": [
    "print(X_train[\"Class\"].value_counts().sort_index())\n",
    "print(\"************************Histogram of X_test*******************************\")\n",
    "cls = X_test[\"Class\"].value_counts().sort_index()\n",
    "cls.plot(kind=\"bar\", title=\"X_test\")\n",
    "plt.show()"
   ]
  },
  {
   "cell_type": "markdown",
   "metadata": {},
   "source": [
    "# Featurizing the data"
   ]
  },
  {
   "cell_type": "markdown",
   "metadata": {},
   "source": [
    "#### [1] TFIDF feature vectorizer"
   ]
  },
  {
   "cell_type": "code",
   "execution_count": 67,
   "metadata": {},
   "outputs": [],
   "source": [
    "from sklearn.feature_extraction.text import TfidfVectorizer"
   ]
  },
  {
   "cell_type": "code",
   "execution_count": 145,
   "metadata": {},
   "outputs": [],
   "source": [
    "#Gene\n",
    "tfidf_gene_vect = TfidfVectorizer(ngram_range=(1,3),stop_words = 'english')\n",
    "\n",
    "tfidf_gene_train = tfidf_gene_vect.fit_transform(X_train[\"Gene\"])\n",
    "tfidf_gene_cv = tfidf_gene_vect.transform(X_cv[\"Gene\"])\n",
    "tfidf_gene_test = tfidf_gene_vect.transform(X_test[\"Gene\"])"
   ]
  },
  {
   "cell_type": "code",
   "execution_count": 146,
   "metadata": {},
   "outputs": [
    {
     "name": "stdout",
     "output_type": "stream",
     "text": [
      "Train: (2124, 232)\n",
      "Cv: (532, 232)\n",
      "Test: (665, 232)\n"
     ]
    }
   ],
   "source": [
    "print(\"Train:\",tfidf_gene_train.toarray().shape)\n",
    "print(\"Cv:\",tfidf_gene_cv.toarray().shape)\n",
    "print(\"Test:\",tfidf_gene_test.toarray().shape)"
   ]
  },
  {
   "cell_type": "code",
   "execution_count": 149,
   "metadata": {},
   "outputs": [],
   "source": [
    "#Variation\n",
    "tfidf_variation_vect = TfidfVectorizer(ngram_range=(1,3), stop_words = 'english')\n",
    "\n",
    "tfidf_variation_train = tfidf_gene_vect.fit_transform(X_train[\"Variation\"])\n",
    "tfidf_variation_cv = tfidf_gene_vect.transform(X_cv[\"Variation\"])\n",
    "tfidf_variation_test = tfidf_gene_vect.transform(X_test[\"Variation\"])"
   ]
  },
  {
   "cell_type": "code",
   "execution_count": 150,
   "metadata": {},
   "outputs": [
    {
     "name": "stdout",
     "output_type": "stream",
     "text": [
      "Train: (2124, 2255)\n",
      "Cv: (532, 2255)\n",
      "Test: (665, 2255)\n"
     ]
    }
   ],
   "source": [
    "print(\"Train:\",tfidf_variation_train.toarray().shape)\n",
    "print(\"Cv:\",tfidf_variation_cv.toarray().shape)\n",
    "print(\"Test:\",tfidf_variation_test.toarray().shape)"
   ]
  },
  {
   "cell_type": "markdown",
   "metadata": {},
   "source": [
    "#### [2] Response coding"
   ]
  },
  {
   "cell_type": "code",
   "execution_count": 88,
   "metadata": {},
   "outputs": [
    {
     "data": {
      "text/plain": [
       "BRCA1      169\n",
       "TP53       110\n",
       "EGFR        97\n",
       "PTEN        75\n",
       "BRCA2       71\n",
       "          ... \n",
       "DUSP4        1\n",
       "WHSC1L1      1\n",
       "CDKN1A       1\n",
       "SRC          1\n",
       "AURKB        1\n",
       "Name: Gene, Length: 232, dtype: int64"
      ]
     },
     "execution_count": 88,
     "metadata": {},
     "output_type": "execute_result"
    }
   ],
   "source": [
    "X_train[\"Gene\"].value_counts()"
   ]
  },
  {
   "cell_type": "code",
   "execution_count": 89,
   "metadata": {},
   "outputs": [
    {
     "name": "stdout",
     "output_type": "stream",
     "text": [
      "BRCA1 169\n"
     ]
    }
   ],
   "source": [
    "for i, j in X_train[\"Gene\"].value_counts().items():\n",
    "    print(i,j)\n",
    "    break"
   ]
  },
  {
   "cell_type": "code",
   "execution_count": 91,
   "metadata": {},
   "outputs": [
    {
     "data": {
      "text/plain": [
       "(10, 5)"
      ]
     },
     "execution_count": 91,
     "metadata": {},
     "output_type": "execute_result"
    }
   ],
   "source": [
    "X_train.loc[(X_train['Class']==3) & (X_train[\"Gene\"]==\"BRCA1\")].shape"
   ]
  },
  {
   "cell_type": "code",
   "execution_count": 82,
   "metadata": {},
   "outputs": [
    {
     "data": {
      "text/plain": [
       "(169, 5)"
      ]
     },
     "execution_count": 82,
     "metadata": {},
     "output_type": "execute_result"
    }
   ],
   "source": [
    "X_train.loc[X_train[\"Gene\"]==\"BRCA1\"].shape"
   ]
  },
  {
   "cell_type": "code",
   "execution_count": 122,
   "metadata": {},
   "outputs": [],
   "source": [
    "# code to get response coded featurization\n",
    "def train_resp_code(column):\n",
    "    column_count = X_train[column].value_counts().items()\n",
    "    code = {}\n",
    "    for col, tot_count in column_count:\n",
    "        response = []\n",
    "        for cls in range(1,10):\n",
    "            val = X_train.loc[(df['Class']==cls) & (X_train[column]==col)].shape[0]\n",
    "            cls_response = (val+10)/(tot_count+90)       # use laplace smoothing\n",
    "            response.append(cls_response)\n",
    "        code[col] = response\n",
    "        \n",
    "    return code\n",
    "\n",
    "def resp_code_for_df(df, col_name):\n",
    "    col_code = []\n",
    "    code_dic = train_resp_code(col_name)\n",
    "    col_dic = dict(X_train[col_name].value_counts())\n",
    "    for idx, data_pt in df.iterrows():\n",
    "        if data_pt[col_name] in col_dic.keys():\n",
    "            col_code.append(code_dic[data_pt[col_name]])\n",
    "        else:\n",
    "            col_code.append([1/9,1/9,1/9,1/9,1/9,1/9,1/9,1/9,1/9])\n",
    "            \n",
    "    return col_code"
   ]
  },
  {
   "cell_type": "code",
   "execution_count": null,
   "metadata": {},
   "outputs": [],
   "source": []
  },
  {
   "cell_type": "code",
   "execution_count": 123,
   "metadata": {},
   "outputs": [],
   "source": [
    "#response code for Gene\n",
    "resp_code_gene_train = np.array(resp_code_for_df(X_train, \"Gene\"))\n",
    "resp_code_gene_cv = np.array(resp_code_for_df(X_cv, \"Gene\"))\n",
    "resp_code_gene_test = np.array(resp_code_for_df(X_test, \"Gene\"))"
   ]
  },
  {
   "cell_type": "code",
   "execution_count": 152,
   "metadata": {},
   "outputs": [
    {
     "name": "stdout",
     "output_type": "stream",
     "text": [
      "Train: (2124, 9)\n",
      "Cv: (532, 9)\n",
      "Test: (665, 9)\n"
     ]
    }
   ],
   "source": [
    "print(\"Train:\", resp_code_gene_train.shape)\n",
    "print(\"Cv:\", resp_code_gene_cv.shape)\n",
    "print(\"Test:\", resp_code_gene_test.shape)"
   ]
  },
  {
   "cell_type": "code",
   "execution_count": 138,
   "metadata": {},
   "outputs": [],
   "source": [
    "#response code for Gene\n",
    "resp_code_variation_train = np.array(resp_code_for_df(X_train, \"Variation\"))\n",
    "resp_code_variation_cv = np.array(resp_code_for_df(X_cv, \"Variation\"))\n",
    "resp_code_variation_test = np.array(resp_code_for_df(X_test, \"Variation\"))"
   ]
  },
  {
   "cell_type": "code",
   "execution_count": 153,
   "metadata": {},
   "outputs": [
    {
     "name": "stdout",
     "output_type": "stream",
     "text": [
      "Train: (2124, 9)\n",
      "Cv: (532, 9)\n",
      "Test: (665, 9)\n"
     ]
    }
   ],
   "source": [
    "print(\"Train:\", resp_code_variation_train.shape)\n",
    "print(\"Cv:\", resp_code_variation_cv.shape)\n",
    "print(\"Test:\", resp_code_variation_test.shape)"
   ]
  },
  {
   "cell_type": "markdown",
   "metadata": {},
   "source": [
    "#### Response code for text"
   ]
  },
  {
   "cell_type": "code",
   "execution_count": 198,
   "metadata": {},
   "outputs": [],
   "source": [
    "def all_dict(df):\n",
    "    item_dict = {}\n",
    "    for idx, column in df.iterrows():\n",
    "        for item in column[\"Text\"].split():\n",
    "            if item in item_dict.keys():\n",
    "                item_dict[item] += 1\n",
    "            else:\n",
    "                item_dict[item] = 1\n",
    "    return item_dict\n",
    "\n",
    "\n",
    "corpus_dict = all_dict(X_train)\n",
    "cls_dict_list = []\n",
    "for cls in range(1,10):\n",
    "    cls_df = X_train[X_train['Class']==i]\n",
    "    cls_dict_list.append(all_dict(cls_df))\n",
    "    \n",
    "    \n",
    "import math\n",
    "def text_resp_code(df):\n",
    "    size = df.shape[0]\n",
    "    resp_code = np.zeros((size,9))\n",
    "    for i in range(0,9):\n",
    "        idx = 0\n",
    "        for j, text in df.iterrows():\n",
    "            prob = 0\n",
    "            for item in text['Text'].split():\n",
    "                prob += math.log(((cls_dict_list[i].get(item,0)+10 )/(corpus_dict.get(item,0)+90)))\n",
    "            resp_code[idx][i] = math.exp(prob/len(text['Text'].split()))\n",
    "            idx += 1\n",
    "    return resp_code    "
   ]
  },
  {
   "cell_type": "code",
   "execution_count": 199,
   "metadata": {},
   "outputs": [],
   "source": [
    "resp_code_text_train = text_resp_code(X_train)\n",
    "resp_code_text_cv = text_resp_code(X_cv)\n",
    "resp_code_text_test = text_resp_code(X_test)"
   ]
  },
  {
   "cell_type": "code",
   "execution_count": 229,
   "metadata": {},
   "outputs": [],
   "source": [
    "resp_code_text_train = (resp_code_text_train.T/resp_code_text_train.sum(axis=1)).T\n",
    "resp_code_text_cv = (resp_code_text_cv.T/resp_code_text_cv.sum(axis=1)).T\n",
    "resp_code_text_test = (resp_code_text_test.T/resp_code_text_test.sum(axis=1)).T"
   ]
  },
  {
   "cell_type": "code",
   "execution_count": 230,
   "metadata": {},
   "outputs": [
    {
     "name": "stdout",
     "output_type": "stream",
     "text": [
      "Train: (2124, 9)\n",
      "Cv: (532, 9)\n",
      "Test: (665, 9)\n"
     ]
    }
   ],
   "source": [
    "print(\"Train:\", resp_code_text_train.shape)\n",
    "print(\"Cv:\", resp_code_text_cv.shape)\n",
    "print(\"Test:\", resp_code_text_test.shape)"
   ]
  },
  {
   "cell_type": "code",
   "execution_count": 232,
   "metadata": {},
   "outputs": [
    {
     "data": {
      "text/plain": [
       "1.0000000000000002"
      ]
     },
     "execution_count": 232,
     "metadata": {},
     "output_type": "execute_result"
    }
   ],
   "source": [
    "sum(resp_code_text_test[0])"
   ]
  },
  {
   "cell_type": "markdown",
   "metadata": {},
   "source": [
    "#### Tfidf Vector for text"
   ]
  },
  {
   "cell_type": "code",
   "execution_count": 234,
   "metadata": {},
   "outputs": [],
   "source": [
    "from sklearn.preprocessing import normalize\n",
    "tfidf_text_vect = TfidfVectorizer(max_features = 1000, ngram_range=(1,3), stop_words = 'english')\n",
    "\n",
    "tfidf_text_train = tfidf_text_vect.fit_transform(X_train[\"Text\"])\n",
    "tfidf_text_train = normalize(tfidf_text_train, axis = 0)\n",
    "\n",
    "tfidf_text_cv = tfidf_text_vect.fit_transform(X_cv[\"Text\"])\n",
    "tfidf_text_cv = normalize(tfidf_text_cv, axis = 0)\n",
    "\n",
    "tfidf_text_test = tfidf_text_vect.fit_transform(X_test[\"Text\"])\n",
    "tfidf_text_test = normalize(tfidf_text_test, axis = 0)"
   ]
  },
  {
   "cell_type": "code",
   "execution_count": 235,
   "metadata": {},
   "outputs": [
    {
     "name": "stdout",
     "output_type": "stream",
     "text": [
      "Train: (2124, 1000)\n",
      "Cv: (532, 1000)\n",
      "Test: (665, 1000)\n"
     ]
    }
   ],
   "source": [
    "print(\"Train:\",tfidf_text_train.toarray().shape)\n",
    "print(\"Cv:\",tfidf_text_cv.toarray().shape)\n",
    "print(\"Test:\",tfidf_text_test.toarray().shape)"
   ]
  },
  {
   "cell_type": "markdown",
   "metadata": {},
   "source": [
    "### Merging the tfidf vectors and response codes"
   ]
  },
  {
   "cell_type": "code",
   "execution_count": 285,
   "metadata": {},
   "outputs": [],
   "source": [
    "from scipy.sparse import hstack\n",
    "\n",
    "tfidf_train = hstack((tfidf_gene_train, tfidf_variation_train))\n",
    "tfidf_gvt_train = hstack((tfidf_train, tfidf_text_train))\n",
    "\n",
    "tfidf_cv = hstack((tfidf_gene_cv, tfidf_variation_cv))\n",
    "tfidf_gvt_cv = hstack((tfidf_cv, tfidf_text_cv))\n",
    "\n",
    "tfidf_test = hstack((tfidf_gene_test, tfidf_variation_test))\n",
    "tfidf_gvt_test = hstack((tfidf_test, tfidf_text_test))"
   ]
  },
  {
   "cell_type": "code",
   "execution_count": 305,
   "metadata": {},
   "outputs": [
    {
     "name": "stdout",
     "output_type": "stream",
     "text": [
      "Train_X: (2124, 3487)\n",
      "Cv_X: (532, 3487)\n",
      "Test_X: (665, 3487)\n"
     ]
    }
   ],
   "source": [
    "print(\"Train_X:\",tfidf_gvt_train.shape)\n",
    "print(\"Cv_X:\",tfidf_gvt_cv.shape)\n",
    "print(\"Test_X:\",tfidf_gvt_test.shape)"
   ]
  },
  {
   "cell_type": "code",
   "execution_count": 290,
   "metadata": {},
   "outputs": [],
   "source": [
    "resp_code_train = np.hstack((resp_code_gene_train, resp_code_variation_train))\n",
    "resp_code_gvt_train = np.hstack((resp_code_train, resp_code_text_train))\n",
    "\n",
    "resp_code_cv = np.hstack((resp_code_gene_cv, resp_code_variation_cv))\n",
    "resp_code_gvt_cv = np.hstack((resp_code_cv, resp_code_text_cv))\n",
    "\n",
    "resp_code_test = np.hstack((resp_code_gene_test, resp_code_variation_test))\n",
    "resp_code_gvt_test = np.hstack((resp_code_test, resp_code_text_test))"
   ]
  },
  {
   "cell_type": "code",
   "execution_count": 306,
   "metadata": {},
   "outputs": [
    {
     "name": "stdout",
     "output_type": "stream",
     "text": [
      "Train_X: (2124, 27)\n",
      "Cv_X: (532, 27)\n",
      "Test_x: (665, 27)\n"
     ]
    }
   ],
   "source": [
    "print(\"Train_X:\",resp_code_gvt_train.shape)\n",
    "print(\"Cv_X:\",resp_code_gvt_cv.shape)\n",
    "print(\"Test_x:\",resp_code_gvt_test.shape)"
   ]
  },
  {
   "cell_type": "code",
   "execution_count": 304,
   "metadata": {},
   "outputs": [],
   "source": [
    "train_class = np.array(y_train)\n",
    "cv_class = np.array(y_cv)\n",
    "test_class = np.array(y_test)"
   ]
  },
  {
   "cell_type": "code",
   "execution_count": 307,
   "metadata": {},
   "outputs": [
    {
     "name": "stdout",
     "output_type": "stream",
     "text": [
      "Train_y: 2124\n",
      "Cv_y: 532\n",
      "Test_y: 665\n"
     ]
    }
   ],
   "source": [
    "print(\"Train_y:\",train_class.shape[0])\n",
    "print(\"Cv_y:\",cv_class.shape[0])\n",
    "print(\"Test_y:\",test_class.shape[0])"
   ]
  },
  {
   "cell_type": "markdown",
   "metadata": {},
   "source": [
    "# Modelling"
   ]
  },
  {
   "cell_type": "code",
   "execution_count": 465,
   "metadata": {},
   "outputs": [],
   "source": [
    "def conf_mat(actual, pred):\n",
    "    confusion_mat = confusion_matrix(actual,pred)\n",
    "    labels = [1,2,3,4,5,6,7,8,9]\n",
    "    plt.figure(figsize=(15,10))\n",
    "    sns.heatmap(confusion_mat, annot=True, xticklabels=labels, yticklabels=labels)\n",
    "    plt.xlabel('Predicted')\n",
    "    plt.ylabel('Original')\n",
    "    plt.show()    "
   ]
  },
  {
   "cell_type": "code",
   "execution_count": 472,
   "metadata": {},
   "outputs": [],
   "source": [
    "def plot(x_ax, y_ax):\n",
    "    plt.plot(x,y)\n",
    "    plt.xlabel(\"Alphas\")\n",
    "    plt.ylabel(\"Log-loss\")\n",
    "    plt.title(\"CV Loss\")\n",
    "    plt.show()"
   ]
  },
  {
   "cell_type": "markdown",
   "metadata": {},
   "source": [
    "## Random/Dummy Model"
   ]
  },
  {
   "cell_type": "code",
   "execution_count": 459,
   "metadata": {},
   "outputs": [
    {
     "name": "stdout",
     "output_type": "stream",
     "text": [
      "Random model CV log-loss 2.497649484497925\n",
      "Random model test log-loss 2.5140217290146536\n"
     ]
    }
   ],
   "source": [
    "import random\n",
    "def random_model(X_data, y_true):\n",
    "    np.random.seed(10)\n",
    "    pred = np.zeros((X_data.shape[0],9))\n",
    "    for i in range(pred.shape[0]):\n",
    "        rand = np.random.rand(1,9)\n",
    "        prob = rand/np.sum(rand)\n",
    "        pred[i] = prob\n",
    "        \n",
    "    loss = log_loss(y_true, pred, eps=1e-15)\n",
    "    return [pred,loss]\n",
    "\n",
    "print(\"Random model CV log-loss\", random_model(X_cv, y_cv)[1])\n",
    "print(\"Random model test log-loss\", random_model(X_test, y_test)[1])"
   ]
  },
  {
   "cell_type": "code",
   "execution_count": 460,
   "metadata": {
    "scrolled": false
   },
   "outputs": [
    {
     "data": {
      "image/png": "[encoded data removed]",
      "text/plain": [
       "<Figure size 1080x720 with 2 Axes>"
      ]
     },
     "metadata": {},
     "output_type": "display_data"
    }
   ],
   "source": [
    "conf_mat = confusion_matrix(y_test,np.argmax(random_model(X_test, y_test)[0], axis=1)+1)\n",
    "labels = [1,2,3,4,5,6,7,8,9]\n",
    "plt.figure(figsize=(15,10))\n",
    "sns.heatmap(conf_mat, annot=True, xticklabels=labels, yticklabels=labels)\n",
    "plt.xlabel('Predicted')\n",
    "plt.ylabel('Original')\n",
    "plt.show()    "
   ]
  },
  {
   "cell_type": "markdown",
   "metadata": {},
   "source": [
    "## 1. Naive Bayes "
   ]
  },
  {
   "cell_type": "code",
   "execution_count": 461,
   "metadata": {},
   "outputs": [],
   "source": [
    "from sklearn.naive_bayes import MultinomialNB\n",
    "from sklearn.calibration import CalibratedClassifierCV"
   ]
  },
  {
   "cell_type": "markdown",
   "metadata": {},
   "source": [
    "### 1.1. With Tfidf vectors"
   ]
  },
  {
   "cell_type": "code",
   "execution_count": 462,
   "metadata": {},
   "outputs": [
    {
     "name": "stdout",
     "output_type": "stream",
     "text": [
      "Alphas and losses:  {0.0001: 1.3691164103994804, 0.001: 1.3567937905218157, 0.1: 1.3416043039486378, 1: 1.430500496522526, 10: 1.5448502111248186, 100: 1.4784781745516633}\n",
      "***********************************************************************************************************************\n",
      "Best alpha: 0.1 , and corrosponding loss: 1.3416043039486378\n"
     ]
    }
   ],
   "source": [
    "alphas = [0.0001, 0.001, 0.1, 1, 10, 100]\n",
    "loss_dict = {}\n",
    "error_arr = []\n",
    "for alpha in alphas:\n",
    "    model = MultinomialNB(alpha=alpha)\n",
    "    model.fit(tfidf_gvt_train, train_class)\n",
    "    calibrated_model = CalibratedClassifierCV(model, method=\"sigmoid\")\n",
    "    calibrated_model.fit(tfidf_gvt_train, train_class)\n",
    "    calibrated_probabilites = calibrated_model.predict_proba(tfidf_gvt_cv)\n",
    "    loss = log_loss(cv_class, calibrated_probabilites, eps=1e-15)\n",
    "    loss_dict[alpha] = loss\n",
    "    error_arr.append(loss)\n",
    "    best_alpha_tfidf = alphas[np.argmin(error_arr)]\n",
    "    \n",
    "    \n",
    "print(\"Alphas and losses: \",loss_dict)\n",
    "print(\"***********************************************************************************************************************\")\n",
    "print(\"Best alpha:\",best_alpha_tfidf, \", and corrosponding loss:\", loss_dict[best_alpha_tfidf])"
   ]
  },
  {
   "cell_type": "code",
   "execution_count": 463,
   "metadata": {},
   "outputs": [
    {
     "name": "stdout",
     "output_type": "stream",
     "text": [
      "The train log loss is: 0.5586611838230131\n",
      "The cv log loss is: 1.3416043039486378\n",
      "The test log loss is: 1.2329983818688202\n"
     ]
    }
   ],
   "source": [
    "best_model = MultinomialNB(alpha=best_alpha_tfidf)\n",
    "best_model.fit(tfidf_gvt_train, train_class)\n",
    "calibrated_best_model = CalibratedClassifierCV(best_model, method=\"sigmoid\")\n",
    "calibrated_best_model.fit(tfidf_gvt_train, train_class)\n",
    "\n",
    "predicted_train = calibrated_best_model.predict_proba(tfidf_gvt_train)\n",
    "train_loss = log_loss(train_class, predicted_train, eps=1e-15)\n",
    "print(\"The train log loss is:\",train_loss)\n",
    "\n",
    "predicted_cv = calibrated_best_model.predict_proba(tfidf_gvt_cv)\n",
    "cv_loss = log_loss(cv_class, predicted_cv, eps=1e-15)\n",
    "print(\"The cv log loss is:\",cv_loss)\n",
    "\n",
    "predicted_test = calibrated_best_model.predict_proba(tfidf_gvt_test)\n",
    "test_loss = log_loss(test_class, predicted_test, eps=1e-15)\n",
    "print(\"The test log loss is:\",test_loss)"
   ]
  },
  {
   "cell_type": "code",
   "execution_count": 473,
   "metadata": {},
   "outputs": [
    {
     "data": {
      "image/png": "[encoded data removed]",
      "text/plain": [
       "<Figure size 864x432 with 1 Axes>"
      ]
     },
     "metadata": {},
     "output_type": "display_data"
    }
   ],
   "source": [
    "x = list(loss_dict.keys())\n",
    "y = list(loss_dict.values())\n",
    "plot(x,y)"
   ]
  },
  {
   "cell_type": "code",
   "execution_count": 474,
   "metadata": {},
   "outputs": [
    {
     "data": {
      "image/png": "[encoded data removed]",
      "text/plain": [
       "<Figure size 1080x720 with 2 Axes>"
      ]
     },
     "metadata": {},
     "output_type": "display_data"
    }
   ],
   "source": [
    "pred = []\n",
    "for i in predicted_test:\n",
    "    pred.append(np.argmax(i)+1)\n",
    "conf_mat(test_class, pred)"
   ]
  },
  {
   "cell_type": "markdown",
   "metadata": {},
   "source": [
    "### 1.2. With Response codes"
   ]
  },
  {
   "cell_type": "code",
   "execution_count": 475,
   "metadata": {},
   "outputs": [
    {
     "name": "stdout",
     "output_type": "stream",
     "text": [
      "Alphas and losses:  {0.0001: 1.29578346294689, 0.001: 1.2957828725409404, 0.1: 1.2957465747903796, 1: 1.2953555041762654, 10: 1.309400601041354, 100: 1.325908501715475}\n",
      "***********************************************************************************************************************\n",
      "Best alpha: 1 , and corrosponding loss: 1.2953555041762654\n"
     ]
    }
   ],
   "source": [
    "alphas = [0.0001, 0.001, 0.1, 1, 10, 100]\n",
    "loss_dict = {}\n",
    "error_arr = []\n",
    "for alpha in alphas:\n",
    "    model = MultinomialNB(alpha=alpha)\n",
    "    model.fit(resp_code_gvt_train, train_class)\n",
    "    calibrated_model = CalibratedClassifierCV(model, method=\"sigmoid\")\n",
    "    calibrated_model.fit(resp_code_gvt_train, train_class)\n",
    "    calibrated_probabilites = calibrated_model.predict_proba(resp_code_gvt_cv)\n",
    "    loss = log_loss(cv_class, calibrated_probabilites, eps=1e-15)\n",
    "    loss_dict[alpha] = loss\n",
    "    error_arr.append(loss)\n",
    "    best_alpha_rc = alphas[np.argmin(error_arr)]\n",
    "    \n",
    "    \n",
    "print(\"Alphas and losses: \",loss_dict)\n",
    "print(\"***********************************************************************************************************************\")\n",
    "print(\"Best alpha:\",best_alpha_rc, \", and corrosponding loss:\", loss_dict[best_alpha_rc])"
   ]
  },
  {
   "cell_type": "code",
   "execution_count": 476,
   "metadata": {},
   "outputs": [
    {
     "name": "stdout",
     "output_type": "stream",
     "text": [
      "The train log loss is: 1.2633662883784376\n",
      "The cv log loss is: 1.2953555041762654\n",
      "The test log loss is: 1.3034372677042023\n"
     ]
    }
   ],
   "source": [
    "best_model = MultinomialNB(alpha=best_alpha_rc)\n",
    "best_model.fit(resp_code_gvt_train, train_class)\n",
    "calibrated_best_model = CalibratedClassifierCV(best_model, method=\"sigmoid\")\n",
    "calibrated_best_model.fit(resp_code_gvt_train, train_class)\n",
    "\n",
    "predicted_train = calibrated_best_model.predict_proba(resp_code_gvt_train)\n",
    "train_loss = log_loss(train_class, predicted_train, eps=1e-15)\n",
    "print(\"The train log loss is:\",train_loss)\n",
    "\n",
    "predicted_cv = calibrated_best_model.predict_proba(resp_code_gvt_cv)\n",
    "cv_loss = log_loss(cv_class, predicted_cv, eps=1e-15)\n",
    "print(\"The cv log loss is:\",cv_loss)\n",
    "\n",
    "predicted_test = calibrated_best_model.predict_proba(resp_code_gvt_test)\n",
    "test_loss = log_loss(test_class, predicted_test, eps=1e-15)\n",
    "print(\"The test log loss is:\",test_loss)"
   ]
  },
  {
   "cell_type": "code",
   "execution_count": 478,
   "metadata": {},
   "outputs": [
    {
     "data": {
      "image/png": "[encoded data removed]",
      "text/plain": [
       "<Figure size 864x432 with 1 Axes>"
      ]
     },
     "metadata": {},
     "output_type": "display_data"
    }
   ],
   "source": [
    "x = list(loss_dict.keys())\n",
    "y = list(loss_dict.values())\n",
    "plot(x,y)"
   ]
  },
  {
   "cell_type": "code",
   "execution_count": 479,
   "metadata": {},
   "outputs": [
    {
     "data": {
      "image/png": "[encoded data removed]",
      "text/plain": [
       "<Figure size 1080x720 with 2 Axes>"
      ]
     },
     "metadata": {},
     "output_type": "display_data"
    }
   ],
   "source": [
    "pred = []\n",
    "for i in predicted_test:\n",
    "    pred.append(np.argmax(i)+1)\n",
    "conf_mat(test_class, pred)"
   ]
  },
  {
   "cell_type": "markdown",
   "metadata": {},
   "source": [
    "## 2. Logistic regression"
   ]
  },
  {
   "cell_type": "code",
   "execution_count": 414,
   "metadata": {},
   "outputs": [],
   "source": [
    "from sklearn.linear_model import SGDClassifier"
   ]
  },
  {
   "cell_type": "markdown",
   "metadata": {},
   "source": [
    "### 2.1. With Tfidf vectors"
   ]
  },
  {
   "cell_type": "code",
   "execution_count": 480,
   "metadata": {},
   "outputs": [
    {
     "name": "stdout",
     "output_type": "stream",
     "text": [
      "Alphas and losses:  {1e-05: 1.3415371915820495, 0.0001: 1.1935476563376006, 0.001: 1.1571566356317695, 0.01: 1.3012958129993415, 0.1: 1.6484643530727643, 1: 1.767103637311228, 10: 1.7810585933681096}\n",
      "***********************************************************************************************************************\n",
      "Best alpha: 0.001 , and corrosponding loss: 1.1571566356317695\n"
     ]
    }
   ],
   "source": [
    "alphas = [10 ** x for x in range(-5, 2)]\n",
    "loss_dict = {}\n",
    "error_arr = []\n",
    "for alpha in alphas:\n",
    "    model = SGDClassifier(class_weight='balanced', alpha=alpha, penalty='l2', loss='log', random_state=42)\n",
    "    model.fit(tfidf_gvt_train, train_class)\n",
    "    calibrated_model = CalibratedClassifierCV(model, method=\"sigmoid\")\n",
    "    calibrated_model.fit(tfidf_gvt_train, train_class)\n",
    "    calibrated_probabilites = calibrated_model.predict_proba(tfidf_gvt_cv)\n",
    "    loss = log_loss(cv_class, calibrated_probabilites, eps=1e-15)\n",
    "    loss_dict[alpha] = loss\n",
    "    error_arr.append(loss)\n",
    "    best_alpha_tfidf = alphas[np.argmin(error_arr)]\n",
    "    \n",
    "    \n",
    "print(\"Alphas and losses: \",loss_dict)\n",
    "print(\"***********************************************************************************************************************\")\n",
    "print(\"Best alpha:\",best_alpha_tfidf, \", and corrosponding loss:\", loss_dict[best_alpha_tfidf])"
   ]
  },
  {
   "cell_type": "code",
   "execution_count": 481,
   "metadata": {},
   "outputs": [
    {
     "name": "stdout",
     "output_type": "stream",
     "text": [
      "The train log loss is: 0.7188574924785088\n",
      "The cv log loss is: 1.1571566356317695\n",
      "The test log loss is: 1.097216529114107\n"
     ]
    }
   ],
   "source": [
    "best_model = SGDClassifier(class_weight='balanced', alpha=best_alpha_tfidf, penalty='l2', loss='log', random_state=42)\n",
    "best_model.fit(tfidf_gvt_train, train_class)\n",
    "calibrated_best_model = CalibratedClassifierCV(best_model, method=\"sigmoid\")\n",
    "calibrated_best_model.fit(tfidf_gvt_train, train_class)\n",
    "\n",
    "predicted_train = calibrated_best_model.predict_proba(tfidf_gvt_train)\n",
    "train_loss = log_loss(train_class, predicted_train, eps=1e-15)\n",
    "print(\"The train log loss is:\",train_loss)\n",
    "\n",
    "predicted_cv = calibrated_best_model.predict_proba(tfidf_gvt_cv)\n",
    "cv_loss = log_loss(cv_class, predicted_cv, eps=1e-15)\n",
    "print(\"The cv log loss is:\",cv_loss)\n",
    "\n",
    "predicted_test = calibrated_best_model.predict_proba(tfidf_gvt_test)\n",
    "test_loss = log_loss(test_class, predicted_test, eps=1e-15)\n",
    "print(\"The test log loss is:\",test_loss)"
   ]
  },
  {
   "cell_type": "code",
   "execution_count": 482,
   "metadata": {},
   "outputs": [
    {
     "data": {
      "image/png": "[encoded data removed]",
      "text/plain": [
       "<Figure size 864x432 with 1 Axes>"
      ]
     },
     "metadata": {},
     "output_type": "display_data"
    }
   ],
   "source": [
    "x = list(loss_dict.keys())\n",
    "y = list(loss_dict.values())\n",
    "plot(x,y)"
   ]
  },
  {
   "cell_type": "code",
   "execution_count": 483,
   "metadata": {},
   "outputs": [
    {
     "data": {
      "image/png": "[encoded data removed]",
      "text/plain": [
       "<Figure size 1080x720 with 2 Axes>"
      ]
     },
     "metadata": {},
     "output_type": "display_data"
    }
   ],
   "source": [
    "pred = []\n",
    "for i in predicted_test:\n",
    "    pred.append(np.argmax(i)+1)\n",
    "conf_mat(test_class, pred)"
   ]
  },
  {
   "cell_type": "markdown",
   "metadata": {},
   "source": [
    "### 2.2. With Response codes"
   ]
  },
  {
   "cell_type": "code",
   "execution_count": 484,
   "metadata": {},
   "outputs": [
    {
     "name": "stdout",
     "output_type": "stream",
     "text": [
      "Alphas and losses:  {1e-05: 1.1609162194981917, 0.0001: 1.1801196137620387, 0.001: 1.2491181552011275, 0.01: 1.2876203219989708, 0.1: 1.2943416579915632, 1: 1.2850395765850648, 10: 1.270264448344429}\n",
      "***********************************************************************************************************************\n",
      "Best alpha: 1e-05 , and corrosponding loss: 1.1609162194981917\n"
     ]
    }
   ],
   "source": [
    "alphas = [10 ** x for x in range(-5, 2)]\n",
    "loss_dict = {}\n",
    "error_arr = []\n",
    "for alpha in alphas:\n",
    "    model = SGDClassifier(class_weight='balanced', alpha=alpha, penalty='l2', loss='log', random_state=42)\n",
    "    model.fit(resp_code_gvt_train, train_class)\n",
    "    calibrated_model = CalibratedClassifierCV(model, method=\"sigmoid\")\n",
    "    calibrated_model.fit(resp_code_gvt_train, train_class)\n",
    "    calibrated_probabilites = calibrated_model.predict_proba(resp_code_gvt_cv)\n",
    "    loss = log_loss(cv_class, calibrated_probabilites, eps=1e-15)\n",
    "    loss_dict[alpha] = loss\n",
    "    error_arr.append(loss)\n",
    "    best_alpha_rc = alphas[np.argmin(error_arr)]\n",
    "    \n",
    "    \n",
    "print(\"Alphas and losses: \",loss_dict)\n",
    "print(\"***********************************************************************************************************************\")\n",
    "print(\"Best alpha:\",best_alpha_rc, \", and corrosponding loss:\", loss_dict[best_alpha_rc])"
   ]
  },
  {
   "cell_type": "code",
   "execution_count": 485,
   "metadata": {},
   "outputs": [
    {
     "name": "stdout",
     "output_type": "stream",
     "text": [
      "The train log loss is: 0.7987052703333763\n",
      "The cv log loss is: 1.1609162194981917\n",
      "The test log loss is: 1.1721333716115274\n"
     ]
    }
   ],
   "source": [
    "best_model = SGDClassifier(class_weight='balanced', alpha=best_alpha_rc, penalty='l2', loss='log', random_state=42)\n",
    "best_model.fit(resp_code_gvt_train, train_class)\n",
    "calibrated_best_model = CalibratedClassifierCV(best_model, method=\"sigmoid\")\n",
    "calibrated_best_model.fit(resp_code_gvt_train, train_class)\n",
    "\n",
    "predicted_train = calibrated_best_model.predict_proba(resp_code_gvt_train)\n",
    "train_loss = log_loss(train_class, predicted_train, eps=1e-15)\n",
    "print(\"The train log loss is:\",train_loss)\n",
    "\n",
    "predicted_cv = calibrated_best_model.predict_proba(resp_code_gvt_cv)\n",
    "cv_loss = log_loss(cv_class, predicted_cv, eps=1e-15)\n",
    "print(\"The cv log loss is:\",cv_loss)\n",
    "\n",
    "predicted_test = calibrated_best_model.predict_proba(resp_code_gvt_test)\n",
    "test_loss = log_loss(test_class, predicted_test, eps=1e-15)\n",
    "print(\"The test log loss is:\",test_loss)"
   ]
  },
  {
   "cell_type": "code",
   "execution_count": 486,
   "metadata": {},
   "outputs": [
    {
     "data": {
      "image/png": "[encoded data removed]",
      "text/plain": [
       "<Figure size 864x432 with 1 Axes>"
      ]
     },
     "metadata": {},
     "output_type": "display_data"
    }
   ],
   "source": [
    "x = list(loss_dict.keys())\n",
    "y = list(loss_dict.values())\n",
    "plot(x,y)"
   ]
  },
  {
   "cell_type": "code",
   "execution_count": 487,
   "metadata": {},
   "outputs": [
    {
     "data": {
      "image/png": "[encoded data removed]",
      "text/plain": [
       "<Figure size 1080x720 with 2 Axes>"
      ]
     },
     "metadata": {},
     "output_type": "display_data"
    }
   ],
   "source": [
    "pred = []\n",
    "for i in predicted_test:\n",
    "    pred.append(np.argmax(i)+1)\n",
    "conf_mat(test_class, pred)"
   ]
  },
  {
   "cell_type": "code",
   "execution_count": null,
   "metadata": {},
   "outputs": [],
   "source": []
  },
  {
   "cell_type": "code",
   "execution_count": 503,
   "metadata": {},
   "outputs": [],
   "source": [
    "import warnings\n",
    "warnings.filterwarnings('ignore')"
   ]
  },
  {
   "cell_type": "markdown",
   "metadata": {},
   "source": [
    "## 3. XgBoost"
   ]
  },
  {
   "cell_type": "code",
   "execution_count": 492,
   "metadata": {},
   "outputs": [],
   "source": [
    "from sklearn.model_selection import RandomizedSearchCV\n",
    "from xgboost import XGBClassifier"
   ]
  },
  {
   "cell_type": "markdown",
   "metadata": {},
   "source": [
    "### 3.1. With Tfidf vectors"
   ]
  },
  {
   "cell_type": "code",
   "execution_count": 493,
   "metadata": {},
   "outputs": [
    {
     "name": "stdout",
     "output_type": "stream",
     "text": [
      "Fitting 5 folds for each of 10 candidates, totalling 50 fits\n"
     ]
    },
    {
     "name": "stderr",
     "output_type": "stream",
     "text": [
      "C:\\Users\\venkatesh lotlikar\\Anaconda3\\lib\\site-packages\\xgboost\\sklearn.py:1224: UserWarning: The use of label encoder in XGBClassifier is deprecated and will be removed in a future release. To remove this warning, do the following: 1) Pass option use_label_encoder=False when constructing XGBClassifier object; and 2) Encode your labels (y) as integers starting with 0, i.e. 0, 1, 2, ..., [num_class - 1].\n",
      "  warnings.warn(label_encoder_deprecation_msg, UserWarning)\n"
     ]
    },
    {
     "name": "stdout",
     "output_type": "stream",
     "text": [
      "[11:34:00] WARNING: C:/Users/Administrator/workspace/xgboost-win64_release_1.5.1/src/learner.cc:1115: Starting in XGBoost 1.3.0, the default evaluation metric used with the objective 'multi:softprob' was changed from 'merror' to 'mlogloss'. Explicitly set eval_metric if you'd like to restore the old behavior.\n"
     ]
    },
    {
     "data": {
      "text/plain": [
       "RandomizedSearchCV(estimator=XGBClassifier(base_score=None, booster=None,\n",
       "                                           colsample_bylevel=None,\n",
       "                                           colsample_bynode=None,\n",
       "                                           colsample_bytree=None,\n",
       "                                           enable_categorical=False, gamma=None,\n",
       "                                           gpu_id=None, importance_type=None,\n",
       "                                           interaction_constraints=None,\n",
       "                                           learning_rate=None,\n",
       "                                           max_delta_step=None, max_depth=None,\n",
       "                                           min_child_weight=None, missing=nan,\n",
       "                                           monotone_constraints=None...\n",
       "                                           predictor=None, random_state=None,\n",
       "                                           reg_alpha=None, reg_lambda=None,\n",
       "                                           scale_pos_weight=None,\n",
       "                                           subsample=None, tree_method=None,\n",
       "                                           validate_parameters=None,\n",
       "                                           verbosity=None),\n",
       "                   n_jobs=-1,\n",
       "                   param_distributions={'colsample_bytree': [0.1, 0.3, 0.5, 1],\n",
       "                                        'learning_rate': [0.01, 0.03, 0.05, 0.1,\n",
       "                                                          0.15, 0.2],\n",
       "                                        'max_depth': [3, 5, 10],\n",
       "                                        'n_estimators': [100, 200, 500, 1000,\n",
       "                                                         2000],\n",
       "                                        'subsample': [0.1, 0.3, 0.5, 1]},\n",
       "                   verbose=10)"
      ]
     },
     "execution_count": 493,
     "metadata": {},
     "output_type": "execute_result"
    }
   ],
   "source": [
    "x_cfl=XGBClassifier()\n",
    "\n",
    "prams={\n",
    "    'learning_rate':[0.01,0.03,0.05,0.1,0.15,0.2],\n",
    "     'n_estimators':[100,200,500,1000,2000],\n",
    "     'max_depth':[3,5,10],\n",
    "    'colsample_bytree':[0.1,0.3,0.5,1],\n",
    "    'subsample':[0.1,0.3,0.5,1]\n",
    "}\n",
    "random_cfl=RandomizedSearchCV(x_cfl,param_distributions=prams,verbose=10,n_jobs=-1,)\n",
    "random_cfl.fit(tfidf_gvt_train, train_class)"
   ]
  },
  {
   "cell_type": "code",
   "execution_count": 494,
   "metadata": {},
   "outputs": [
    {
     "name": "stdout",
     "output_type": "stream",
     "text": [
      "{'subsample': 1, 'n_estimators': 100, 'max_depth': 10, 'learning_rate': 0.15, 'colsample_bytree': 0.1}\n"
     ]
    }
   ],
   "source": [
    "print (random_cfl.best_params_)"
   ]
  },
  {
   "cell_type": "code",
   "execution_count": 504,
   "metadata": {},
   "outputs": [
    {
     "name": "stdout",
     "output_type": "stream",
     "text": [
      "[09:39:03] WARNING: C:/Users/Administrator/workspace/xgboost-win64_release_1.5.1/src/learner.cc:1115: Starting in XGBoost 1.3.0, the default evaluation metric used with the objective 'multi:softprob' was changed from 'merror' to 'mlogloss'. Explicitly set eval_metric if you'd like to restore the old behavior.\n",
      "[09:39:34] WARNING: C:/Users/Administrator/workspace/xgboost-win64_release_1.5.1/src/learner.cc:1115: Starting in XGBoost 1.3.0, the default evaluation metric used with the objective 'multi:softprob' was changed from 'merror' to 'mlogloss'. Explicitly set eval_metric if you'd like to restore the old behavior.\n",
      "[09:39:58] WARNING: C:/Users/Administrator/workspace/xgboost-win64_release_1.5.1/src/learner.cc:1115: Starting in XGBoost 1.3.0, the default evaluation metric used with the objective 'multi:softprob' was changed from 'merror' to 'mlogloss'. Explicitly set eval_metric if you'd like to restore the old behavior.\n",
      "[09:40:22] WARNING: C:/Users/Administrator/workspace/xgboost-win64_release_1.5.1/src/learner.cc:1115: Starting in XGBoost 1.3.0, the default evaluation metric used with the objective 'multi:softprob' was changed from 'merror' to 'mlogloss'. Explicitly set eval_metric if you'd like to restore the old behavior.\n",
      "[09:40:49] WARNING: C:/Users/Administrator/workspace/xgboost-win64_release_1.5.1/src/learner.cc:1115: Starting in XGBoost 1.3.0, the default evaluation metric used with the objective 'multi:softprob' was changed from 'merror' to 'mlogloss'. Explicitly set eval_metric if you'd like to restore the old behavior.\n",
      "[09:41:16] WARNING: C:/Users/Administrator/workspace/xgboost-win64_release_1.5.1/src/learner.cc:1115: Starting in XGBoost 1.3.0, the default evaluation metric used with the objective 'multi:softprob' was changed from 'merror' to 'mlogloss'. Explicitly set eval_metric if you'd like to restore the old behavior.\n"
     ]
    }
   ],
   "source": [
    "xgb_model=XGBClassifier(n_estimators=100 ,max_depth=10, learning_rate=0.15, colsample_bytree=0.1, subsample=1, nthread=-1)\n",
    "xgb_model.fit(tfidf_gvt_train, train_class,verbose=True)\n",
    "calibrated_xgb_model = CalibratedClassifierCV(xgb_model, method=\"sigmoid\")\n",
    "calibrated_xgb_model.fit(tfidf_gvt_train, train_class)\n",
    "    \n",
    "predicted_train = calibrated_xgb_model.predict_proba(tfidf_gvt_train)\n",
    "train_loss = log_loss(train_class, predicted_train, eps=1e-15)\n",
    "\n",
    "predicted_cv = calibrated_xgb_model.predict_proba(tfidf_gvt_cv)\n",
    "cv_loss = log_loss(cv_class, predicted_cv, eps=1e-15)\n",
    "\n",
    "predicted_test = calibrated_xgb_model.predict_proba(tfidf_gvt_test)\n",
    "test_loss = log_loss(test_class, predicted_test,  eps=1e-15)"
   ]
  },
  {
   "cell_type": "code",
   "execution_count": 505,
   "metadata": {},
   "outputs": [
    {
     "name": "stdout",
     "output_type": "stream",
     "text": [
      "The train log loss is: 0.49436191779783806\n",
      "The cv log loss is: 1.77956776371598\n",
      "The test log loss is: 1.740702672498568\n"
     ]
    }
   ],
   "source": [
    "print(\"The train log loss is:\",train_loss)\n",
    "print(\"The cv log loss is:\",cv_loss)\n",
    "print(\"The test log loss is:\", test_loss)"
   ]
  },
  {
   "cell_type": "code",
   "execution_count": 508,
   "metadata": {},
   "outputs": [
    {
     "data": {
      "image/png": "[encoded data removed]",
      "text/plain": [
       "<Figure size 1080x720 with 2 Axes>"
      ]
     },
     "metadata": {},
     "output_type": "display_data"
    }
   ],
   "source": [
    "pred = []\n",
    "for i in predicted_test:\n",
    "    pred.append(np.argmax(i)+1)\n",
    "conf_mat(test_class, pred)"
   ]
  },
  {
   "cell_type": "markdown",
   "metadata": {},
   "source": [
    "### 3.2. With response codes"
   ]
  },
  {
   "cell_type": "code",
   "execution_count": 506,
   "metadata": {},
   "outputs": [
    {
     "name": "stdout",
     "output_type": "stream",
     "text": [
      "Fitting 5 folds for each of 10 candidates, totalling 50 fits\n",
      "[09:45:35] WARNING: C:/Users/Administrator/workspace/xgboost-win64_release_1.5.1/src/learner.cc:1115: Starting in XGBoost 1.3.0, the default evaluation metric used with the objective 'multi:softprob' was changed from 'merror' to 'mlogloss'. Explicitly set eval_metric if you'd like to restore the old behavior.\n"
     ]
    },
    {
     "data": {
      "text/plain": [
       "RandomizedSearchCV(estimator=XGBClassifier(base_score=None, booster=None,\n",
       "                                           colsample_bylevel=None,\n",
       "                                           colsample_bynode=None,\n",
       "                                           colsample_bytree=None,\n",
       "                                           enable_categorical=False, gamma=None,\n",
       "                                           gpu_id=None, importance_type=None,\n",
       "                                           interaction_constraints=None,\n",
       "                                           learning_rate=None,\n",
       "                                           max_delta_step=None, max_depth=None,\n",
       "                                           min_child_weight=None, missing=nan,\n",
       "                                           monotone_constraints=None...\n",
       "                                           predictor=None, random_state=None,\n",
       "                                           reg_alpha=None, reg_lambda=None,\n",
       "                                           scale_pos_weight=None,\n",
       "                                           subsample=None, tree_method=None,\n",
       "                                           validate_parameters=None,\n",
       "                                           verbosity=None),\n",
       "                   n_jobs=-1,\n",
       "                   param_distributions={'colsample_bytree': [0.1, 0.3, 0.5, 1],\n",
       "                                        'learning_rate': [0.01, 0.03, 0.05, 0.1,\n",
       "                                                          0.15, 0.2],\n",
       "                                        'max_depth': [3, 5, 10],\n",
       "                                        'n_estimators': [100, 200, 500, 1000,\n",
       "                                                         2000],\n",
       "                                        'subsample': [0.1, 0.3, 0.5, 1]},\n",
       "                   verbose=10)"
      ]
     },
     "execution_count": 506,
     "metadata": {},
     "output_type": "execute_result"
    }
   ],
   "source": [
    "x_cfl_rc=XGBClassifier()\n",
    "\n",
    "prams={\n",
    "    'learning_rate':[0.01,0.03,0.05,0.1,0.15,0.2],\n",
    "     'n_estimators':[100,200,500,1000,2000],\n",
    "     'max_depth':[3,5,10],\n",
    "    'colsample_bytree':[0.1,0.3,0.5,1],\n",
    "    'subsample':[0.1,0.3,0.5,1]\n",
    "}\n",
    "random_cfl_rc=RandomizedSearchCV(x_cfl_rc,param_distributions=prams,verbose=10,n_jobs=-1,)\n",
    "random_cfl_rc.fit(resp_code_gvt_train, train_class)"
   ]
  },
  {
   "cell_type": "code",
   "execution_count": 509,
   "metadata": {},
   "outputs": [
    {
     "name": "stdout",
     "output_type": "stream",
     "text": [
      "{'subsample': 1, 'n_estimators': 200, 'max_depth': 3, 'learning_rate': 0.05, 'colsample_bytree': 1}\n"
     ]
    }
   ],
   "source": [
    "print (random_cfl_rc.best_params_)"
   ]
  },
  {
   "cell_type": "code",
   "execution_count": 510,
   "metadata": {},
   "outputs": [
    {
     "name": "stdout",
     "output_type": "stream",
     "text": [
      "[09:48:13] WARNING: C:/Users/Administrator/workspace/xgboost-win64_release_1.5.1/src/learner.cc:1115: Starting in XGBoost 1.3.0, the default evaluation metric used with the objective 'multi:softprob' was changed from 'merror' to 'mlogloss'. Explicitly set eval_metric if you'd like to restore the old behavior.\n",
      "[09:48:15] WARNING: C:/Users/Administrator/workspace/xgboost-win64_release_1.5.1/src/learner.cc:1115: Starting in XGBoost 1.3.0, the default evaluation metric used with the objective 'multi:softprob' was changed from 'merror' to 'mlogloss'. Explicitly set eval_metric if you'd like to restore the old behavior.\n",
      "[09:48:17] WARNING: C:/Users/Administrator/workspace/xgboost-win64_release_1.5.1/src/learner.cc:1115: Starting in XGBoost 1.3.0, the default evaluation metric used with the objective 'multi:softprob' was changed from 'merror' to 'mlogloss'. Explicitly set eval_metric if you'd like to restore the old behavior.\n",
      "[09:48:20] WARNING: C:/Users/Administrator/workspace/xgboost-win64_release_1.5.1/src/learner.cc:1115: Starting in XGBoost 1.3.0, the default evaluation metric used with the objective 'multi:softprob' was changed from 'merror' to 'mlogloss'. Explicitly set eval_metric if you'd like to restore the old behavior.\n",
      "[09:48:22] WARNING: C:/Users/Administrator/workspace/xgboost-win64_release_1.5.1/src/learner.cc:1115: Starting in XGBoost 1.3.0, the default evaluation metric used with the objective 'multi:softprob' was changed from 'merror' to 'mlogloss'. Explicitly set eval_metric if you'd like to restore the old behavior.\n",
      "[09:48:24] WARNING: C:/Users/Administrator/workspace/xgboost-win64_release_1.5.1/src/learner.cc:1115: Starting in XGBoost 1.3.0, the default evaluation metric used with the objective 'multi:softprob' was changed from 'merror' to 'mlogloss'. Explicitly set eval_metric if you'd like to restore the old behavior.\n"
     ]
    }
   ],
   "source": [
    "xgb_model=XGBClassifier(n_estimators=200 ,max_depth=3, learning_rate=0.05, colsample_bytree=1, subsample=1, nthread=-1)\n",
    "xgb_model.fit(resp_code_gvt_train, train_class,verbose=True)\n",
    "calibrated_xgb_model = CalibratedClassifierCV(xgb_model, method=\"sigmoid\")\n",
    "calibrated_xgb_model.fit(resp_code_gvt_train, train_class)\n",
    "    \n",
    "predicted_train = calibrated_xgb_model.predict_proba(resp_code_gvt_train)\n",
    "train_loss = log_loss(train_class, predicted_train, eps=1e-15)\n",
    "\n",
    "predicted_cv = calibrated_xgb_model.predict_proba(resp_code_gvt_cv)\n",
    "cv_loss = log_loss(cv_class, predicted_cv, eps=1e-15)\n",
    "\n",
    "predicted_test = calibrated_xgb_model.predict_proba(resp_code_gvt_test)\n",
    "test_loss = log_loss(test_class, predicted_test,  eps=1e-15)"
   ]
  },
  {
   "cell_type": "code",
   "execution_count": 511,
   "metadata": {},
   "outputs": [
    {
     "name": "stdout",
     "output_type": "stream",
     "text": [
      "The train log loss is: 0.039022226423002564\n",
      "The cv log loss is: 1.68924399596359\n",
      "The test log loss is: 1.6933851841437875\n"
     ]
    }
   ],
   "source": [
    "print(\"The train log loss is:\",train_loss)\n",
    "print(\"The cv log loss is:\",cv_loss)\n",
    "print(\"The test log loss is:\", test_loss)"
   ]
  },
  {
   "cell_type": "code",
   "execution_count": 512,
   "metadata": {},
   "outputs": [
    {
     "data": {
      "image/png": "[encoded data removed]",
      "text/plain": [
       "<Figure size 1080x720 with 2 Axes>"
      ]
     },
     "metadata": {},
     "output_type": "display_data"
    }
   ],
   "source": [
    "pred = []\n",
    "for i in predicted_test:\n",
    "    pred.append(np.argmax(i)+1)\n",
    "conf_mat(test_class, pred)"
   ]
  },
  {
   "cell_type": "code",
   "execution_count": null,
   "metadata": {},
   "outputs": [],
   "source": []
  }
 ],
 "metadata": {
  "kernelspec": {
   "display_name": "Python 3",
   "language": "python",
   "name": "python3"
  },
  "language_info": {
   "codemirror_mode": {
    "name": "ipython",
    "version": 3
   },
   "file_extension": ".py",
   "mimetype": "text/x-python",
   "name": "python",
   "nbconvert_exporter": "python",
   "pygments_lexer": "ipython3",
   "version": "3.6.5"
  }
 },
 "nbformat": 4,
 "nbformat_minor": 2
}
